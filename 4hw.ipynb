{
 "cells": [
  {
   "cell_type": "code",
   "execution_count": 8,
   "metadata": {},
   "outputs": [],
   "source": [
    "import pandas as pd\n",
    "from sklearn.model_selection import train_test_split\n",
    "from sklearn.preprocessing import StandardScaler, LabelEncoder\n",
    "from sklearn.linear_model import LogisticRegression\n",
    "from sklearn.metrics import classification_report\n",
    "from imblearn.over_sampling import SMOTE\n",
    "from imblearn.under_sampling import RandomUnderSampler\n",
    "\n",
    "# Данные\n",
    "titanic = pd.read_csv('train.csv')\n",
    "\n",
    "# Предобработка данных\n",
    "def preprocess_data(df):\n",
    "    df = df.drop(['Name', 'Ticket', 'Cabin'], axis=1)\n",
    "    df['Age'] = df['Age'].fillna(df['Age'].median())\n",
    "    df['Embarked'] = df['Embarked'].fillna(df['Embarked'].mode()[0])\n",
    "    df = pd.get_dummies(df, columns=['Sex', 'Embarked'], drop_first=True)\n",
    "    return df\n",
    "\n",
    "titanic = preprocess_data(titanic)\n",
    "\n",
    "# Разделение на признаки и целевую переменную\n",
    "X = titanic.drop('Survived', axis=1)\n",
    "y = titanic['Survived']\n",
    "\n",
    "# Разделение на обучающую и тестовую выборки\n",
    "X_train, X_test, y_train, y_test = train_test_split(X, y, test_size=0.2, random_state=42)\n"
   ]
  },
  {
   "cell_type": "code",
   "execution_count": 9,
   "metadata": {},
   "outputs": [
    {
     "name": "stdout",
     "output_type": "stream",
     "text": [
      "Без перевзвешивания:\n",
      "              precision    recall  f1-score   support\n",
      "\n",
      "           0       0.82      0.85      0.84       105\n",
      "           1       0.77      0.74      0.76        74\n",
      "\n",
      "    accuracy                           0.80       179\n",
      "   macro avg       0.80      0.80      0.80       179\n",
      "weighted avg       0.80      0.80      0.80       179\n",
      "\n"
     ]
    }
   ],
   "source": [
    "# Обучение базовой модели\n",
    "model = LogisticRegression(random_state=42, max_iter=1000)\n",
    "model.fit(X_train, y_train)\n",
    "\n",
    "# Предсказание и оценка модели\n",
    "y_pred = model.predict(X_test)\n",
    "print(\"Без перевзвешивания:\")\n",
    "print(classification_report(y_test, y_pred))\n"
   ]
  },
  {
   "cell_type": "code",
   "execution_count": 10,
   "metadata": {},
   "outputs": [
    {
     "name": "stdout",
     "output_type": "stream",
     "text": [
      "С oversampling (SMOTE):\n",
      "              precision    recall  f1-score   support\n",
      "\n",
      "           0       0.87      0.79      0.83       105\n",
      "           1       0.74      0.84      0.78        74\n",
      "\n",
      "    accuracy                           0.81       179\n",
      "   macro avg       0.81      0.81      0.81       179\n",
      "weighted avg       0.82      0.81      0.81       179\n",
      "\n"
     ]
    }
   ],
   "source": [
    "# Применение SMOTE\n",
    "smote = SMOTE(random_state=42)\n",
    "X_train_smote, y_train_smote = smote.fit_resample(X_train, y_train)\n",
    "\n",
    "# Обучение модели на данных после SMOTE\n",
    "model_smote = LogisticRegression(random_state=42, max_iter=1000)\n",
    "model_smote.fit(X_train_smote, y_train_smote)\n",
    "\n",
    "# Предсказание и оценка модели\n",
    "y_pred_smote = model_smote.predict(X_test)\n",
    "print(\"С oversampling (SMOTE):\")\n",
    "print(classification_report(y_test, y_pred_smote))\n"
   ]
  },
  {
   "cell_type": "code",
   "execution_count": 11,
   "metadata": {},
   "outputs": [
    {
     "name": "stdout",
     "output_type": "stream",
     "text": [
      "С undersampling:\n",
      "              precision    recall  f1-score   support\n",
      "\n",
      "           0       0.88      0.78      0.83       105\n",
      "           1       0.73      0.85      0.79        74\n",
      "\n",
      "    accuracy                           0.81       179\n",
      "   macro avg       0.81      0.82      0.81       179\n",
      "weighted avg       0.82      0.81      0.81       179\n",
      "\n"
     ]
    }
   ],
   "source": [
    "# Применение undersampling\n",
    "undersample = RandomUnderSampler(random_state=42)\n",
    "X_train_under, y_train_under = undersample.fit_resample(X_train, y_train)\n",
    "\n",
    "# Обучение модели на данных после undersampling\n",
    "model_under = LogisticRegression(random_state=42, max_iter=1000)\n",
    "model_under.fit(X_train_under, y_train_under)\n",
    "\n",
    "# Предсказание и оценка модели\n",
    "y_pred_under = model_under.predict(X_test)\n",
    "print(\"С undersampling:\")\n",
    "print(classification_report(y_test, y_pred_under))\n"
   ]
  },
  {
   "cell_type": "code",
   "execution_count": null,
   "metadata": {},
   "outputs": [],
   "source": []
  }
 ],
 "metadata": {
  "kernelspec": {
   "display_name": "hw4",
   "language": "python",
   "name": "python3"
  },
  "language_info": {
   "codemirror_mode": {
    "name": "ipython",
    "version": 3
   },
   "file_extension": ".py",
   "mimetype": "text/x-python",
   "name": "python",
   "nbconvert_exporter": "python",
   "pygments_lexer": "ipython3",
   "version": "3.10.11"
  }
 },
 "nbformat": 4,
 "nbformat_minor": 2
}
